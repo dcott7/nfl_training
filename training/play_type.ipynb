{
 "cells": [
  {
   "cell_type": "code",
   "execution_count": 10,
   "id": "de1e30ec",
   "metadata": {},
   "outputs": [],
   "source": [
    "from datetime import datetime\n",
    "from io import StringIO\n",
    "\n",
    "import pandas as pd\n",
    "import numpy as np\n",
    "import requests"
   ]
  },
  {
   "cell_type": "code",
   "execution_count": 8,
   "id": "50223a33",
   "metadata": {},
   "outputs": [],
   "source": [
    "BASE_URL = \"https://github.com/nflverse/nflverse-data/releases/download/pbp/play_by_play\"\n",
    "YEARS = range(1999, datetime.now().year)"
   ]
  },
  {
   "cell_type": "code",
   "execution_count": 9,
   "id": "99fbb3ce",
   "metadata": {},
   "outputs": [
    {
     "name": "stdout",
     "output_type": "stream",
     "text": [
      "Fetching play-by-play data for year: 1999\n"
     ]
    },
    {
     "name": "stderr",
     "output_type": "stream",
     "text": [
      "/var/folders/5p/xt5xryvs4ds0sgcf7wv710gc0000gn/T/ipykernel_82829/3705959345.py:7: DtypeWarning: Columns (36,37,179,180,189,190,197,198,203,204,205,206,213,214,218,219,220,222,224,226,248,249,253,254,255,260,262,263,266,267,268,269,283,284) have mixed types. Specify dtype option on import or set low_memory=False.\n",
      "  df = pd.read_csv(StringIO(response.text))\n"
     ]
    },
    {
     "name": "stdout",
     "output_type": "stream",
     "text": [
      "Fetching play-by-play data for year: 2000\n"
     ]
    },
    {
     "name": "stderr",
     "output_type": "stream",
     "text": [
      "/var/folders/5p/xt5xryvs4ds0sgcf7wv710gc0000gn/T/ipykernel_82829/3705959345.py:7: DtypeWarning: Columns (37,45,179,180,182,183,189,190,193,194,197,198,203,204,205,206,218,219,220,248,249,253,254,255,260,262,263,283,284) have mixed types. Specify dtype option on import or set low_memory=False.\n",
      "  df = pd.read_csv(StringIO(response.text))\n"
     ]
    },
    {
     "name": "stdout",
     "output_type": "stream",
     "text": [
      "Fetching play-by-play data for year: 2001\n"
     ]
    },
    {
     "name": "stderr",
     "output_type": "stream",
     "text": [
      "/var/folders/5p/xt5xryvs4ds0sgcf7wv710gc0000gn/T/ipykernel_82829/3705959345.py:7: DtypeWarning: Columns (37,45,179,180,182,183,189,190,193,194,197,198,203,204,205,206,209,210,213,214,218,219,220,248,249,253,254,255,260,262,263,266,267,268,269,283,284,301) have mixed types. Specify dtype option on import or set low_memory=False.\n",
      "  df = pd.read_csv(StringIO(response.text))\n"
     ]
    },
    {
     "name": "stdout",
     "output_type": "stream",
     "text": [
      "Fetching play-by-play data for year: 2002\n"
     ]
    },
    {
     "name": "stderr",
     "output_type": "stream",
     "text": [
      "/var/folders/5p/xt5xryvs4ds0sgcf7wv710gc0000gn/T/ipykernel_82829/3705959345.py:7: DtypeWarning: Columns (37,45,179,180,182,183,189,190,193,194,197,198,203,204,205,206,209,210,218,219,220,222,224,226,248,249,253,254,255,260,262,263,283,284,301) have mixed types. Specify dtype option on import or set low_memory=False.\n",
      "  df = pd.read_csv(StringIO(response.text))\n"
     ]
    },
    {
     "name": "stdout",
     "output_type": "stream",
     "text": [
      "Fetching play-by-play data for year: 2003\n"
     ]
    },
    {
     "name": "stderr",
     "output_type": "stream",
     "text": [
      "/var/folders/5p/xt5xryvs4ds0sgcf7wv710gc0000gn/T/ipykernel_82829/3705959345.py:7: DtypeWarning: Columns (37,45,179,180,189,190,193,194,197,198,203,204,205,206,211,212,213,214,218,219,220,253,254,255,260,262,263,283,284) have mixed types. Specify dtype option on import or set low_memory=False.\n",
      "  df = pd.read_csv(StringIO(response.text))\n"
     ]
    },
    {
     "name": "stdout",
     "output_type": "stream",
     "text": [
      "Fetching play-by-play data for year: 2004\n"
     ]
    },
    {
     "name": "stderr",
     "output_type": "stream",
     "text": [
      "/var/folders/5p/xt5xryvs4ds0sgcf7wv710gc0000gn/T/ipykernel_82829/3705959345.py:7: DtypeWarning: Columns (37,45,179,180,182,183,189,190,193,194,197,198,203,204,205,206,218,219,220,253,254,255,260,262,263,283,284) have mixed types. Specify dtype option on import or set low_memory=False.\n",
      "  df = pd.read_csv(StringIO(response.text))\n"
     ]
    },
    {
     "name": "stdout",
     "output_type": "stream",
     "text": [
      "Fetching play-by-play data for year: 2005\n"
     ]
    },
    {
     "name": "stderr",
     "output_type": "stream",
     "text": [
      "/var/folders/5p/xt5xryvs4ds0sgcf7wv710gc0000gn/T/ipykernel_82829/3705959345.py:7: DtypeWarning: Columns (37,45,179,180,182,183,189,190,193,194,197,198,203,204,205,206,218,219,220,253,254,255,260,262,263,266,267,268,269,283,284) have mixed types. Specify dtype option on import or set low_memory=False.\n",
      "  df = pd.read_csv(StringIO(response.text))\n"
     ]
    },
    {
     "name": "stdout",
     "output_type": "stream",
     "text": [
      "Fetching play-by-play data for year: 2006\n"
     ]
    },
    {
     "name": "stderr",
     "output_type": "stream",
     "text": [
      "/var/folders/5p/xt5xryvs4ds0sgcf7wv710gc0000gn/T/ipykernel_82829/3705959345.py:7: DtypeWarning: Columns (45,179,180,182,183,189,190,193,194,197,198,203,204,205,206,207,208,218,219,220,248,249,253,254,255,260,262,263,266,267,268,269,283,284) have mixed types. Specify dtype option on import or set low_memory=False.\n",
      "  df = pd.read_csv(StringIO(response.text))\n"
     ]
    },
    {
     "name": "stdout",
     "output_type": "stream",
     "text": [
      "Fetching play-by-play data for year: 2007\n"
     ]
    },
    {
     "name": "stderr",
     "output_type": "stream",
     "text": [
      "/var/folders/5p/xt5xryvs4ds0sgcf7wv710gc0000gn/T/ipykernel_82829/3705959345.py:7: DtypeWarning: Columns (45,179,180,182,183,189,190,193,194,197,198,203,204,205,206,213,214,218,219,220,248,249,253,254,255,260,262,263,266,267,268,269,283,284) have mixed types. Specify dtype option on import or set low_memory=False.\n",
      "  df = pd.read_csv(StringIO(response.text))\n"
     ]
    },
    {
     "name": "stdout",
     "output_type": "stream",
     "text": [
      "Fetching play-by-play data for year: 2008\n"
     ]
    },
    {
     "name": "stderr",
     "output_type": "stream",
     "text": [
      "/var/folders/5p/xt5xryvs4ds0sgcf7wv710gc0000gn/T/ipykernel_82829/3705959345.py:7: DtypeWarning: Columns (45,179,180,182,183,189,190,193,194,197,198,203,204,205,206,209,210,213,214,218,219,220,248,249,253,254,255,260,262,263,266,267,268,269,283,284) have mixed types. Specify dtype option on import or set low_memory=False.\n",
      "  df = pd.read_csv(StringIO(response.text))\n"
     ]
    },
    {
     "name": "stdout",
     "output_type": "stream",
     "text": [
      "Fetching play-by-play data for year: 2009\n"
     ]
    },
    {
     "name": "stderr",
     "output_type": "stream",
     "text": [
      "/var/folders/5p/xt5xryvs4ds0sgcf7wv710gc0000gn/T/ipykernel_82829/3705959345.py:7: DtypeWarning: Columns (45,179,180,189,190,193,194,197,198,203,204,205,206,213,214,218,219,220,248,249,253,254,255,260,262,263,266,267,268,269,283,284) have mixed types. Specify dtype option on import or set low_memory=False.\n",
      "  df = pd.read_csv(StringIO(response.text))\n"
     ]
    },
    {
     "name": "stdout",
     "output_type": "stream",
     "text": [
      "Fetching play-by-play data for year: 2010\n"
     ]
    },
    {
     "name": "stderr",
     "output_type": "stream",
     "text": [
      "/var/folders/5p/xt5xryvs4ds0sgcf7wv710gc0000gn/T/ipykernel_82829/3705959345.py:7: DtypeWarning: Columns (45,179,180,182,183,189,190,193,194,197,198,203,204,205,206,218,219,220,248,249,253,254,255,260,262,263,283,284) have mixed types. Specify dtype option on import or set low_memory=False.\n",
      "  df = pd.read_csv(StringIO(response.text))\n"
     ]
    },
    {
     "name": "stdout",
     "output_type": "stream",
     "text": [
      "Fetching play-by-play data for year: 2011\n"
     ]
    },
    {
     "name": "stderr",
     "output_type": "stream",
     "text": [
      "/var/folders/5p/xt5xryvs4ds0sgcf7wv710gc0000gn/T/ipykernel_82829/3705959345.py:7: DtypeWarning: Columns (45,179,180,182,183,189,190,193,194,197,198,203,204,205,206,209,210,213,214,218,219,220,248,249,253,254,255,260,262,263,283,284) have mixed types. Specify dtype option on import or set low_memory=False.\n",
      "  df = pd.read_csv(StringIO(response.text))\n"
     ]
    },
    {
     "name": "stdout",
     "output_type": "stream",
     "text": [
      "Fetching play-by-play data for year: 2012\n"
     ]
    },
    {
     "name": "stderr",
     "output_type": "stream",
     "text": [
      "/var/folders/5p/xt5xryvs4ds0sgcf7wv710gc0000gn/T/ipykernel_82829/3705959345.py:7: DtypeWarning: Columns (45,179,180,182,183,189,190,193,194,197,198,203,204,205,206,213,214,218,219,220,248,249,253,254,255,260,262,263,266,267,268,269,283,284) have mixed types. Specify dtype option on import or set low_memory=False.\n",
      "  df = pd.read_csv(StringIO(response.text))\n"
     ]
    },
    {
     "name": "stdout",
     "output_type": "stream",
     "text": [
      "Fetching play-by-play data for year: 2013\n"
     ]
    },
    {
     "name": "stderr",
     "output_type": "stream",
     "text": [
      "/var/folders/5p/xt5xryvs4ds0sgcf7wv710gc0000gn/T/ipykernel_82829/3705959345.py:7: DtypeWarning: Columns (179,180,182,183,193,194,197,198,203,204,205,206,209,210,218,219,220,253,254,255,260,262,263,283,284) have mixed types. Specify dtype option on import or set low_memory=False.\n",
      "  df = pd.read_csv(StringIO(response.text))\n"
     ]
    },
    {
     "name": "stdout",
     "output_type": "stream",
     "text": [
      "Fetching play-by-play data for year: 2014\n"
     ]
    },
    {
     "name": "stderr",
     "output_type": "stream",
     "text": [
      "/var/folders/5p/xt5xryvs4ds0sgcf7wv710gc0000gn/T/ipykernel_82829/3705959345.py:7: DtypeWarning: Columns (45,179,180,182,183,189,190,193,194,197,198,203,204,205,206,218,219,220,248,249,253,254,255,260,262,263,283,284) have mixed types. Specify dtype option on import or set low_memory=False.\n",
      "  df = pd.read_csv(StringIO(response.text))\n"
     ]
    },
    {
     "name": "stdout",
     "output_type": "stream",
     "text": [
      "Fetching play-by-play data for year: 2015\n"
     ]
    },
    {
     "name": "stderr",
     "output_type": "stream",
     "text": [
      "/var/folders/5p/xt5xryvs4ds0sgcf7wv710gc0000gn/T/ipykernel_82829/3705959345.py:7: DtypeWarning: Columns (45,179,180,182,183,189,190,193,194,197,198,203,204,205,206,218,219,220,233,234,235,236,237,238,248,249,253,254,255,260,262,263,283,284) have mixed types. Specify dtype option on import or set low_memory=False.\n",
      "  df = pd.read_csv(StringIO(response.text))\n"
     ]
    },
    {
     "name": "stdout",
     "output_type": "stream",
     "text": [
      "Fetching play-by-play data for year: 2016\n"
     ]
    },
    {
     "name": "stderr",
     "output_type": "stream",
     "text": [
      "/var/folders/5p/xt5xryvs4ds0sgcf7wv710gc0000gn/T/ipykernel_82829/3705959345.py:7: DtypeWarning: Columns (179,180,182,183,189,190,193,194,197,198,203,204,205,206,209,210,218,219,220,248,249,253,254,255,260,262,263,283,284) have mixed types. Specify dtype option on import or set low_memory=False.\n",
      "  df = pd.read_csv(StringIO(response.text))\n"
     ]
    },
    {
     "name": "stdout",
     "output_type": "stream",
     "text": [
      "Fetching play-by-play data for year: 2017\n"
     ]
    },
    {
     "name": "stderr",
     "output_type": "stream",
     "text": [
      "/var/folders/5p/xt5xryvs4ds0sgcf7wv710gc0000gn/T/ipykernel_82829/3705959345.py:7: DtypeWarning: Columns (179,180,182,183,189,190,191,192,193,194,197,198,199,200,203,204,205,206,213,214,218,219,220,248,249,253,254,255,260,262,263,266,267,268,269,283,284) have mixed types. Specify dtype option on import or set low_memory=False.\n",
      "  df = pd.read_csv(StringIO(response.text))\n"
     ]
    },
    {
     "name": "stdout",
     "output_type": "stream",
     "text": [
      "Fetching play-by-play data for year: 2018\n"
     ]
    },
    {
     "name": "stderr",
     "output_type": "stream",
     "text": [
      "/var/folders/5p/xt5xryvs4ds0sgcf7wv710gc0000gn/T/ipykernel_82829/3705959345.py:7: DtypeWarning: Columns (40,41,44,45,49,50,51,52,179,180,182,183,187,188,191,192,193,194,195,196,197,198,199,200,203,204,205,206,207,208,211,212,213,214,215,216,217,218,219,220,222,224,226,227,228,229,230,231,232,240,241,242,246,247,248,249,250,251,252,253,254,255,256,258,259,260,262,263,264,265,266,267,268,269,270,272,273,274,277,278,283,284) have mixed types. Specify dtype option on import or set low_memory=False.\n",
      "  df = pd.read_csv(StringIO(response.text))\n"
     ]
    },
    {
     "name": "stdout",
     "output_type": "stream",
     "text": [
      "Fetching play-by-play data for year: 2019\n"
     ]
    },
    {
     "name": "stderr",
     "output_type": "stream",
     "text": [
      "/var/folders/5p/xt5xryvs4ds0sgcf7wv710gc0000gn/T/ipykernel_82829/3705959345.py:7: DtypeWarning: Columns (45,179,180,182,183,189,190,193,194,197,198,203,204,205,206,209,210,218,219,220,233,234,235,236,237,238,248,249,253,254,255,260,262,263,283,284) have mixed types. Specify dtype option on import or set low_memory=False.\n",
      "  df = pd.read_csv(StringIO(response.text))\n"
     ]
    },
    {
     "name": "stdout",
     "output_type": "stream",
     "text": [
      "Fetching play-by-play data for year: 2020\n"
     ]
    },
    {
     "name": "stderr",
     "output_type": "stream",
     "text": [
      "/var/folders/5p/xt5xryvs4ds0sgcf7wv710gc0000gn/T/ipykernel_82829/3705959345.py:7: DtypeWarning: Columns (179,180,182,183,189,190,193,194,197,198,203,204,205,206,213,214,218,219,220,222,224,226,248,249,253,254,255,260,262,263,266,267,268,269,283,284) have mixed types. Specify dtype option on import or set low_memory=False.\n",
      "  df = pd.read_csv(StringIO(response.text))\n"
     ]
    },
    {
     "name": "stdout",
     "output_type": "stream",
     "text": [
      "Fetching play-by-play data for year: 2021\n"
     ]
    },
    {
     "name": "stderr",
     "output_type": "stream",
     "text": [
      "/var/folders/5p/xt5xryvs4ds0sgcf7wv710gc0000gn/T/ipykernel_82829/3705959345.py:7: DtypeWarning: Columns (179,180,182,183,189,190,193,194,197,198,203,204,205,206,218,219,220,233,234,235,236,237,238,253,254,255,260,262,263,283,284) have mixed types. Specify dtype option on import or set low_memory=False.\n",
      "  df = pd.read_csv(StringIO(response.text))\n"
     ]
    },
    {
     "name": "stdout",
     "output_type": "stream",
     "text": [
      "Fetching play-by-play data for year: 2022\n"
     ]
    },
    {
     "name": "stderr",
     "output_type": "stream",
     "text": [
      "/var/folders/5p/xt5xryvs4ds0sgcf7wv710gc0000gn/T/ipykernel_82829/3705959345.py:7: DtypeWarning: Columns (45,179,180,182,183,187,188,189,190,193,194,197,198,203,204,205,206,213,214,218,219,220,222,224,226,243,244,245,248,249,253,254,255,260,262,263,266,267,268,269,283,284) have mixed types. Specify dtype option on import or set low_memory=False.\n",
      "  df = pd.read_csv(StringIO(response.text))\n"
     ]
    },
    {
     "name": "stdout",
     "output_type": "stream",
     "text": [
      "Fetching play-by-play data for year: 2023\n"
     ]
    },
    {
     "name": "stderr",
     "output_type": "stream",
     "text": [
      "/var/folders/5p/xt5xryvs4ds0sgcf7wv710gc0000gn/T/ipykernel_82829/3705959345.py:7: DtypeWarning: Columns (45,179,180,182,183,189,190,197,198,203,204,205,206,218,219,220,222,224,226,253,254,255,260,262,263,283,284,332) have mixed types. Specify dtype option on import or set low_memory=False.\n",
      "  df = pd.read_csv(StringIO(response.text))\n"
     ]
    },
    {
     "name": "stdout",
     "output_type": "stream",
     "text": [
      "Fetching play-by-play data for year: 2024\n"
     ]
    },
    {
     "name": "stderr",
     "output_type": "stream",
     "text": [
      "/var/folders/5p/xt5xryvs4ds0sgcf7wv710gc0000gn/T/ipykernel_82829/3705959345.py:7: DtypeWarning: Columns (179,180,182,183,189,190,197,198,203,204,205,206,213,214,218,219,220,222,224,226,233,234,235,236,237,238,248,249,253,254,255,260,262,263,283,284) have mixed types. Specify dtype option on import or set low_memory=False.\n",
      "  df = pd.read_csv(StringIO(response.text))\n"
     ]
    }
   ],
   "source": [
    "def fetch_pbp_data(years):\n",
    "    pbp_dfs = []\n",
    "    for year in years:\n",
    "        print(f\"Fetching play-by-play data for year: {year}\")\n",
    "        response = requests.get(f\"{BASE_URL}_{year}.csv\")\n",
    "        response.raise_for_status()  # Raises error if download fails\n",
    "        df = pd.read_csv(StringIO(response.text))\n",
    "        pbp_dfs.append(df)\n",
    "\n",
    "    return pd.concat(pbp_dfs, ignore_index=True)\n",
    "\n",
    "pbp = fetch_pbp_data(YEARS)"
   ]
  },
  {
   "cell_type": "code",
   "execution_count": null,
   "id": "5392e7a2",
   "metadata": {},
   "outputs": [
    {
     "name": "stderr",
     "output_type": "stream",
     "text": [
      "/var/folders/5p/xt5xryvs4ds0sgcf7wv710gc0000gn/T/ipykernel_82829/1411853397.py:4: PerformanceWarning: DataFrame is highly fragmented.  This is usually the result of calling `frame.insert` many times, which has poor performance.  Consider joining all columns at once using pd.concat(axis=1) instead. To get a de-fragmented frame, use `newframe = frame.copy()`\n",
      "  pbp['prev_time'] = pbp.groupby('game_id')['quarter_seconds_remaining'].shift(1)\n",
      "/var/folders/5p/xt5xryvs4ds0sgcf7wv710gc0000gn/T/ipykernel_82829/1411853397.py:5: PerformanceWarning: DataFrame is highly fragmented.  This is usually the result of calling `frame.insert` many times, which has poor performance.  Consider joining all columns at once using pd.concat(axis=1) instead. To get a de-fragmented frame, use `newframe = frame.copy()`\n",
      "  pbp['prev_incomplete'] = pbp.groupby('game_id')['incomplete_pass'].shift(1)\n",
      "/var/folders/5p/xt5xryvs4ds0sgcf7wv710gc0000gn/T/ipykernel_82829/1411853397.py:6: PerformanceWarning: DataFrame is highly fragmented.  This is usually the result of calling `frame.insert` many times, which has poor performance.  Consider joining all columns at once using pd.concat(axis=1) instead. To get a de-fragmented frame, use `newframe = frame.copy()`\n",
      "  pbp['prev_timeout'] = pbp.groupby('game_id')['timeout'].shift(1)\n",
      "/var/folders/5p/xt5xryvs4ds0sgcf7wv710gc0000gn/T/ipykernel_82829/1411853397.py:7: PerformanceWarning: DataFrame is highly fragmented.  This is usually the result of calling `frame.insert` many times, which has poor performance.  Consider joining all columns at once using pd.concat(axis=1) instead. To get a de-fragmented frame, use `newframe = frame.copy()`\n",
      "  pbp['prev_spike'] = pbp.groupby('game_id')['qb_spike'].shift(1)\n",
      "/var/folders/5p/xt5xryvs4ds0sgcf7wv710gc0000gn/T/ipykernel_82829/1411853397.py:8: PerformanceWarning: DataFrame is highly fragmented.  This is usually the result of calling `frame.insert` many times, which has poor performance.  Consider joining all columns at once using pd.concat(axis=1) instead. To get a de-fragmented frame, use `newframe = frame.copy()`\n",
      "  pbp['prev_out_of_bounds'] = pbp.groupby('game_id')['out_of_bounds'].shift(1)\n",
      "/var/folders/5p/xt5xryvs4ds0sgcf7wv710gc0000gn/T/ipykernel_82829/1411853397.py:9: PerformanceWarning: DataFrame is highly fragmented.  This is usually the result of calling `frame.insert` many times, which has poor performance.  Consider joining all columns at once using pd.concat(axis=1) instead. To get a de-fragmented frame, use `newframe = frame.copy()`\n",
      "  pbp['prev_qb_kneel'] = pbp.groupby('game_id')['qb_kneel'].shift(1)\n"
     ]
    }
   ],
   "source": [
    "pbp = pbp.sort_values(['game_id', 'play_id'])\n",
    "\n",
    "# Group by game_id and create lagged features\n",
    "pbp['prev_time'] = pbp.groupby('game_id')['quarter_seconds_remaining'].shift(1)\n",
    "pbp['prev_incomplete'] = pbp.groupby('game_id')['incomplete_pass'].shift(1)\n",
    "pbp['prev_timeout'] = pbp.groupby('game_id')['timeout'].shift(1)\n",
    "pbp['prev_spike'] = pbp.groupby('game_id')['qb_spike'].shift(1)\n",
    "pbp['prev_out_of_bounds'] = pbp.groupby('game_id')['out_of_bounds'].shift(1)\n",
    "pbp['prev_qb_kneel'] = pbp.groupby('game_id')['qb_kneel'].shift(1)\n",
    "\n",
    "# is_clock_running logic\n",
    "def get_is_clock_running(row):\n",
    "    if pd.isna(row['prev_time']):\n",
    "        return np.nan\n",
    "    if row['prev_timeout'] == 1 or row['prev_spike'] == 1 or row['prev_incomplete'] == 1 or row['prev_out_of_bounds'] == 1:\n",
    "        return False\n",
    "    if row['prev_qb_kneel'] == 1:\n",
    "        return True\n",
    "    if row['prev_time'] > row['quarter_seconds_remaining']:\n",
    "        return True\n",
    "    return False\n",
    "\n",
    "pbp['is_clock_running'] = pbp.apply(get_is_clock_running, axis=1)\n",
    "\n",
    "pbp = pbp[\n",
    "    pbp['down'].notna() &\n",
    "    pbp['play_type'].notna() &\n",
    "    (pbp['play_type'] != 'no_play')\n",
    "]"
   ]
  },
  {
   "cell_type": "code",
   "execution_count": null,
   "id": "d2181cd8",
   "metadata": {},
   "outputs": [],
   "source": [
    "pbp_model = pbp[[\n",
    "    'qtr',\n",
    "    'game_seconds_remaining',\n",
    "    'posteam_score',\n",
    "    'defteam_score',\n",
    "    'down',\n",
    "    'ydstogo',\n",
    "    'yardline_100',\n",
    "    'posteam_timeouts_remaining',\n",
    "    'defteam_timeouts_remaining',\n",
    "    'play_type',\n",
    "    'is_clock_running'\n",
    "]].copy()\n",
    "\n",
    "pbp_model.rename(columns={'qtr': 'quarter'}, inplace=True)\n",
    "\n",
    "pbp_model['play_type'] = pbp_model['play_type'].str.upper().astype('category')\n",
    "\n",
    "pbp_model.head()"
   ]
  }
 ],
 "metadata": {
  "kernelspec": {
   "display_name": "venv",
   "language": "python",
   "name": "python3"
  },
  "language_info": {
   "codemirror_mode": {
    "name": "ipython",
    "version": 3
   },
   "file_extension": ".py",
   "mimetype": "text/x-python",
   "name": "python",
   "nbconvert_exporter": "python",
   "pygments_lexer": "ipython3",
   "version": "3.11.0"
  }
 },
 "nbformat": 4,
 "nbformat_minor": 5
}
